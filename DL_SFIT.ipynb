{
  "nbformat": 4,
  "nbformat_minor": 0,
  "metadata": {
    "colab": {
      "name": "DL_SFIT.ipynb",
      "provenance": [],
      "collapsed_sections": []
    },
    "kernelspec": {
      "name": "python3",
      "display_name": "Python 3"
    },
    "accelerator": "GPU"
  },
  "cells": [
    {
      "cell_type": "markdown",
      "metadata": {
        "id": "7gLAAX9TA9i1",
        "colab_type": "text"
      },
      "source": [
        "**Hands-on Workshop: Deep Learning for Computer Vision**\n",
        "\n",
        "**March 2019**\n",
        "\n",
        "**Instructor: Santosh Chapaneri**"
      ]
    },
    {
      "cell_type": "markdown",
      "metadata": {
        "id": "ynzUllbQB2Rl",
        "colab_type": "text"
      },
      "source": [
        "*   The Fashion MNIST database has a database of fashion accessories.\n",
        "\n",
        "*   Fashion-MNIST: a Novel Image Dataset for Benchmarking Machine Learning Algorithms. Han Xiao, Kashif Rasul, Roland Vollgraf. arXiv:1708.07747, 2017.\n",
        "\n",
        "*   The training set has  60,000  samples. The test set has  10,000  samples.\n",
        "\n",
        "*   The fashion accessories are size-normalized and centered in a fixed-size image.\n",
        "\n",
        "*   We will train Multi-layer Perceptron, Deep Multi-layer Perceptron and CNN classifier using Keras for Fashion MNIST dataset."
      ]
    },
    {
      "cell_type": "code",
      "metadata": {
        "id": "dvl-r1HABPQA",
        "colab_type": "code",
        "colab": {}
      },
      "source": [
        "import numpy as np\n",
        "import pandas as pd\n",
        "import tensorflow as tf\n",
        "import keras\n",
        "import matplotlib.pyplot as plt\n",
        "from sklearn.model_selection import train_test_split\n",
        "from keras.utils import to_categorical"
      ],
      "execution_count": 0,
      "outputs": []
    },
    {
      "cell_type": "code",
      "metadata": {
        "id": "HmVX6vQbCFEB",
        "colab_type": "code",
        "outputId": "1e6bebbd-9b40-4e74-da4a-bb1586ebd520",
        "colab": {
          "base_uri": "https://localhost:8080/",
          "height": 153
        }
      },
      "source": [
        "# Load the fashion-mnist pre-shuffled train data and test data\n",
        "(X_train, Y_train), (X_test, Y_test) = tf.keras.datasets.fashion_mnist.load_data()\n"
      ],
      "execution_count": 0,
      "outputs": [
        {
          "output_type": "stream",
          "text": [
            "Downloading data from https://storage.googleapis.com/tensorflow/tf-keras-datasets/train-labels-idx1-ubyte.gz\n",
            "32768/29515 [=================================] - 0s 0us/step\n",
            "Downloading data from https://storage.googleapis.com/tensorflow/tf-keras-datasets/train-images-idx3-ubyte.gz\n",
            "26427392/26421880 [==============================] - 0s 0us/step\n",
            "Downloading data from https://storage.googleapis.com/tensorflow/tf-keras-datasets/t10k-labels-idx1-ubyte.gz\n",
            "8192/5148 [===============================================] - 0s 0us/step\n",
            "Downloading data from https://storage.googleapis.com/tensorflow/tf-keras-datasets/t10k-images-idx3-ubyte.gz\n",
            "4423680/4422102 [==============================] - 0s 0us/step\n"
          ],
          "name": "stdout"
        }
      ]
    },
    {
      "cell_type": "code",
      "metadata": {
        "id": "gzAhEmfII_2m",
        "colab_type": "code",
        "outputId": "a9ff168a-7864-45c4-a3a8-b4fb7140fffa",
        "colab": {
          "base_uri": "https://localhost:8080/",
          "height": 34
        }
      },
      "source": [
        "# Print training set shape \n",
        "print(\"X_train shape:\", X_train.shape, \"Y_train shape:\", Y_train.shape)"
      ],
      "execution_count": 0,
      "outputs": [
        {
          "output_type": "stream",
          "text": [
            "X_train shape: (60000, 28, 28) Y_train shape: (60000,)\n"
          ],
          "name": "stdout"
        }
      ]
    },
    {
      "cell_type": "markdown",
      "metadata": {
        "id": "IO4h9mcHCpkq",
        "colab_type": "text"
      },
      "source": [
        "** Visualize the data**"
      ]
    },
    {
      "cell_type": "code",
      "metadata": {
        "id": "k889bERwCbbv",
        "colab_type": "code",
        "outputId": "1df05171-67fe-47f8-85b9-1ae41475cfd5",
        "colab": {
          "base_uri": "https://localhost:8080/",
          "height": 1000
        }
      },
      "source": [
        "# Define the labels\n",
        "fashion_mnist_labels = [\"T-shirt/top\",  # index 0\n",
        "                        \"Trouser\",      # index 1\n",
        "                        \"Pullover\",     # index 2 \n",
        "                        \"Dress\",        # index 3 \n",
        "                        \"Coat\",         # index 4\n",
        "                        \"Sandal\",       # index 5\n",
        "                        \"Shirt\",        # index 6 \n",
        "                        \"Sneaker\",      # index 7 \n",
        "                        \"Bag\",          # index 8 \n",
        "                        \"Ankle boot\"]   # index 9\n",
        "\n",
        "# Image index, you can pick any number between 0 and 59,999\n",
        "img_index = 5999\n",
        "\n",
        "# y_train contains the lables, ranging from 0 to 9\n",
        "label_index = Y_train[img_index]\n",
        "\n",
        "# Print the label, for example 2 Pullover\n",
        "print (\"Y = \" + str(label_index) + \" \" +(fashion_mnist_labels[label_index]))\n",
        "\n",
        "\n",
        "# # Show one of the images from the training dataset\n",
        "plt.imshow(X_train[img_index])"
      ],
      "execution_count": 0,
      "outputs": [
        {
          "output_type": "stream",
          "text": [
            "Y = 0 T-shirt/top\n",
            "[[  0   0   0   0   0   0   0   0   0   0 120  54   0   0   0   0  13 124\n",
            "    0   0   0   0   2   0   0   0   0   0]\n",
            " [  0   0   0   0   0   0   0  64 173 207 218 206 232 184 168 202 205 218\n",
            "  202 126  12   0   0   1   0   0   0   0]\n",
            " [  0   0   0   0   0  56 199 223 222 207 205 211 223 227 231 230 214 203\n",
            "  209 220 213 164   0   0   2   0   0   0]\n",
            " [  0   0   0   0   0 191 219 200 200 206 206 205 206 206 203 202 201 202\n",
            "  201 195 198 222 149   0   0   0   0   0]\n",
            " [  0   0   0   0  72 224 201 205 208 202 204 204 205 205 208 205 192 188\n",
            "  203 202 200 189 198  23   0   0   0   0]\n",
            " [  0   0   0   0 160 221 211 200 204 203 204 203 201 202 201 203 201 185\n",
            "  203 203 188 194 207 126   0   0   0   0]\n",
            " [  0   0   0   0 227 212 224 205 201 204 203 202 202 201 201 200 201 195\n",
            "  198 191 182 199 202 202   0   0   0   0]\n",
            " [  0   0   0  20 208 205 224 219 201 200 202 202 201 201 199 198 199 199\n",
            "  197 183 195 210 191 189  11   0   0   0]\n",
            " [  0   0   0 138 223 201 218 229 216 202 202 200 200 197 197 199 197 194\n",
            "  186 178 214 205 180 193  84   0   0   0]\n",
            " [  0   0   0 104 181 212 234 254 219 208 204 201 201 199 199 199 197 197\n",
            "  192 191 250 220 199 197 141   0   0   0]\n",
            " [  0   0   0   0   0  40 131 193 219 207 205 202 202 199 199 199 193 197\n",
            "  188 200 174 111  56  15   0   0   0   0]\n",
            " [  0   0   0   0   0   0   0   2 248 208 202 199 200 197 197 200 194 187\n",
            "  192 186   0   0   0   0   0   0   0   0]\n",
            " [  0   0   0   0   0   2   0   0 228 217 199 200 201 202 198 198 203 188\n",
            "  200 162   0   0   2   3   1   0   0   0]\n",
            " [  0   0   0   0   0   0   0   0 200 218 203 200 198 201 199 197 203 188\n",
            "  203 136   0   0   0   0   0   0   0   0]\n",
            " [  0   0   0   0   0   0   0   0 181 220 202 200 200 201 200 195 200 191\n",
            "  202  85   0   1   0   0   0   0   0   0]\n",
            " [  0   0   0   0   0   0   0   0 168 220 200 200 201 201 199 198 195 193\n",
            "  198  82   0   1   0   0   0   0   0   0]\n",
            " [  0   0   0   0   0   0   0   0 157 220 199 200 199 199 195 200 191 194\n",
            "  199 106   0   7   0   0   0   0   0   0]\n",
            " [  0   0   0   0   0   0   0   0 165 217 199 200 200 199 194 199 192 193\n",
            "  203 109   0   1   0   0   0   0   0   0]\n",
            " [  0   0   0   0   0   1   0   0 175 210 200 200 200 200 192 198 195 188\n",
            "  208 125   0   0   0   0   0   0   0   0]\n",
            " [  0   0   0   0   0   2   0   0 197 205 201 199 197 194 192 198 195 186\n",
            "  205 134   0   0   0   0   0   0   0   0]\n",
            " [  0   0   0   0   0   4   0  16 206 201 201 199 197 194 191 199 197 191\n",
            "  199 160   0   0   0   0   0   0   0   0]\n",
            " [  0   0   0   0   0   5   0  31 209 195 200 198 197 194 184 194 193 195\n",
            "  192 167   0   0   2   0   0   0   0   0]\n",
            " [  0   0   0   0   0   5   0  32 207 200 197 197 197 197 183 197 195 195\n",
            "  190 184   5   0   3   0   0   0   0   0]\n",
            " [  0   0   0   0   0   7   0  68 210 197 197 194 198 199 187 199 199 195\n",
            "  190 190  20   0   4   0   0   0   0   0]\n",
            " [  0   0   0   0   0   7   0  89 210 194 199 195 199 203 195 200 200 197\n",
            "  192 190  22   0   4   0   0   0   0   0]\n",
            " [  0   0   0   0   0   7   0 116 207 193 195 191 195 194 188 190 197 197\n",
            "  190 192  47   0   5   0   0   0   0   0]\n",
            " [  0   0   0   0   0   5   0 172 225 207 207 225 225 225 224 225 229 211\n",
            "  206 210  88   0   6   0   0   0   0   0]\n",
            " [  0   0   0   0   0   2   0  48  94 103 119 123 132 128 122 119 114  97\n",
            "   88 102  27   0   4   0   0   0   0   0]]\n"
          ],
          "name": "stdout"
        },
        {
          "output_type": "execute_result",
          "data": {
            "text/plain": [
              "<matplotlib.image.AxesImage at 0x7f98743b3d68>"
            ]
          },
          "metadata": {
            "tags": []
          },
          "execution_count": 4
        },
        {
          "output_type": "display_data",
          "data": {
            "image/png": "[encoded data removed]",
            "text/plain": [
              "<Figure size 432x288 with 1 Axes>"
            ]
          },
          "metadata": {
            "tags": []
          }
        }
      ]
    },
    {
      "cell_type": "code",
      "metadata": {
        "id": "-XY6SifzDB4Y",
        "colab_type": "code",
        "colab": {}
      },
      "source": [
        "img_rows, img_cols = 28,28\n",
        "\n",
        "# MLP\n",
        "X_train_mlp = X_train.reshape(X_train.shape[0], img_rows*img_cols)\n",
        "Y_train_mlp = Y_train\n",
        "X_test_mlp = X_test.reshape(X_test.shape[0], img_rows*img_cols)\n",
        "Y_test_mlp =Y_test\n",
        "\n",
        "# CNN\n",
        "X_train_cnn = X_train.reshape(X_train.shape[0], img_rows,img_cols,1)\n",
        "Y_train_cnn = Y_train\n",
        "X_test_cnn = X_test.reshape(X_test.shape[0], img_rows,img_cols,1)\n",
        "Y_test_cnn = Y_test"
      ],
      "execution_count": 0,
      "outputs": []
    },
    {
      "cell_type": "code",
      "metadata": {
        "id": "UaITN7ikDk-7",
        "colab_type": "code",
        "outputId": "2dbd297b-b490-4255-b78e-6de0f0643805",
        "colab": {
          "base_uri": "https://localhost:8080/",
          "height": 85
        }
      },
      "source": [
        "print(X_train_mlp.shape)\n",
        "print(X_train_cnn.shape)\n",
        "print(Y_train_mlp.shape)\n",
        "print(Y_train_cnn.shape)"
      ],
      "execution_count": 0,
      "outputs": [
        {
          "output_type": "stream",
          "text": [
            "(60000, 784)\n",
            "(60000, 28, 28, 1)\n",
            "(60000,)\n",
            "(60000,)\n"
          ],
          "name": "stdout"
        }
      ]
    },
    {
      "cell_type": "code",
      "metadata": {
        "id": "tV7ht-OjC_J0",
        "colab_type": "code",
        "colab": {}
      },
      "source": [
        "X_train_mlp = X_train_mlp.astype('float32')\n",
        "X_test_mlp = X_test_mlp.astype('float32')\n",
        "X_train_mlp /= 255\n",
        "X_test_mlp /= 255\n",
        "\n",
        "X_train_cnn = X_train_cnn.astype('float32')\n",
        "X_test_cnn = X_test_cnn.astype('float32')\n",
        "X_train_cnn /= 255\n",
        "X_test_cnn /= 255"
      ],
      "execution_count": 0,
      "outputs": []
    },
    {
      "cell_type": "code",
      "metadata": {
        "id": "bdO9Dl08EO3p",
        "colab_type": "code",
        "colab": {}
      },
      "source": [
        "# Convert class vectors to binary class matrices\n",
        "num_classes = 10\n",
        "\n",
        "Y_train_mlp = keras.utils.to_categorical(Y_train_mlp, num_classes)\n",
        "Y_test_mlp = keras.utils.to_categorical(Y_test_mlp, num_classes)\n",
        "\n",
        "Y_train_cnn = keras.utils.to_categorical(Y_train_cnn, num_classes)\n",
        "Y_test_cnn = keras.utils.to_categorical(Y_test_cnn, num_classes)"
      ],
      "execution_count": 0,
      "outputs": []
    },
    {
      "cell_type": "code",
      "metadata": {
        "id": "KM-qNaGpEcMG",
        "colab_type": "code",
        "outputId": "c6534f46-2494-48d4-84e9-ff333dff9318",
        "colab": {
          "base_uri": "https://localhost:8080/",
          "height": 119
        }
      },
      "source": [
        "print(Y_train_cnn.shape)\n",
        "Y_train_cnn[:5,:]"
      ],
      "execution_count": 0,
      "outputs": [
        {
          "output_type": "stream",
          "text": [
            "(60000, 10)\n"
          ],
          "name": "stdout"
        },
        {
          "output_type": "execute_result",
          "data": {
            "text/plain": [
              "array([[0., 0., 0., 0., 0., 0., 0., 0., 0., 1.],\n",
              "       [1., 0., 0., 0., 0., 0., 0., 0., 0., 0.],\n",
              "       [1., 0., 0., 0., 0., 0., 0., 0., 0., 0.],\n",
              "       [0., 0., 0., 1., 0., 0., 0., 0., 0., 0.],\n",
              "       [1., 0., 0., 0., 0., 0., 0., 0., 0., 0.]], dtype=float32)"
            ]
          },
          "metadata": {
            "tags": []
          },
          "execution_count": 10
        }
      ]
    },
    {
      "cell_type": "code",
      "metadata": {
        "id": "C1LezZKuEgRy",
        "colab_type": "code",
        "colab": {}
      },
      "source": [
        "# Split data to optimize classifier during training\n",
        "X_train_mlp, X_val_mlp, Y_train_mlp, Y_val_mlp = train_test_split(X_train_mlp,Y_train_mlp,test_size=0.2)\n",
        "\n",
        "X_train_cnn, X_val_cnn, Y_train_cnn, Y_val_cnn = train_test_split(X_train_cnn,Y_train_cnn,test_size=0.2)"
      ],
      "execution_count": 0,
      "outputs": []
    },
    {
      "cell_type": "code",
      "metadata": {
        "id": "A60Al_34Erih",
        "colab_type": "code",
        "outputId": "e6d1c8f5-2de4-4f6c-a297-590f93f02ccd",
        "colab": {
          "base_uri": "https://localhost:8080/",
          "height": 85
        }
      },
      "source": [
        "print(X_train_mlp.shape)\n",
        "print(X_val_mlp.shape)\n",
        "\n",
        "print(X_train_cnn.shape)\n",
        "print(X_val_cnn.shape)"
      ],
      "execution_count": 0,
      "outputs": [
        {
          "output_type": "stream",
          "text": [
            "(48000, 784)\n",
            "(12000, 784)\n",
            "(48000, 28, 28, 1)\n",
            "(12000, 28, 28, 1)\n"
          ],
          "name": "stdout"
        }
      ]
    },
    {
      "cell_type": "markdown",
      "metadata": {
        "id": "I1D1UQ8_Ezf6",
        "colab_type": "text"
      },
      "source": [
        "**Multi Layer Perceptron**"
      ]
    },
    {
      "cell_type": "code",
      "metadata": {
        "id": "CkDSbfGoE1OR",
        "colab_type": "code",
        "colab": {}
      },
      "source": [
        "from keras.models import Sequential\n",
        "from keras.layers import Dense\n",
        "from keras.optimizers import SGD\n",
        "from keras.datasets import mnist\n",
        "from keras.utils import np_utils"
      ],
      "execution_count": 0,
      "outputs": []
    },
    {
      "cell_type": "code",
      "metadata": {
        "id": "E_m9kNVBE5Qq",
        "colab_type": "code",
        "outputId": "e258f80c-f4f5-4dac-ace0-ed8ea85ba904",
        "colab": {
          "base_uri": "https://localhost:8080/",
          "height": 411
        }
      },
      "source": [
        "# Multilayer Perceptron model\n",
        "\n",
        "batch_size = 256\n",
        "num_epochs = 50\n",
        "\n",
        "model = Sequential()\n",
        "\n",
        "model.add(Dense(input_dim=784, activation='sigmoid', \n",
        "                units=625, kernel_initializer='normal'))\n",
        "\n",
        "model.add(Dense(input_dim=625, activation='softmax', \n",
        "                units=10, kernel_initializer='normal'))\n",
        "\n",
        "model.compile(optimizer=SGD(lr=0.05), \n",
        "              loss='categorical_crossentropy', \n",
        "              metrics=['accuracy'])\n",
        "\n",
        "model.summary()"
      ],
      "execution_count": 0,
      "outputs": [
        {
          "output_type": "stream",
          "text": [
            "WARNING: Logging before flag parsing goes to stderr.\n",
            "W0828 15:47:49.654829 140139242628992 deprecation_wrapper.py:119] From /usr/local/lib/python3.6/dist-packages/keras/backend/tensorflow_backend.py:74: The name tf.get_default_graph is deprecated. Please use tf.compat.v1.get_default_graph instead.\n",
            "\n",
            "W0828 15:47:49.706316 140139242628992 deprecation_wrapper.py:119] From /usr/local/lib/python3.6/dist-packages/keras/backend/tensorflow_backend.py:517: The name tf.placeholder is deprecated. Please use tf.compat.v1.placeholder instead.\n",
            "\n",
            "W0828 15:47:49.718126 140139242628992 deprecation_wrapper.py:119] From /usr/local/lib/python3.6/dist-packages/keras/backend/tensorflow_backend.py:4115: The name tf.random_normal is deprecated. Please use tf.random.normal instead.\n",
            "\n",
            "W0828 15:47:49.760864 140139242628992 deprecation_wrapper.py:119] From /usr/local/lib/python3.6/dist-packages/keras/optimizers.py:790: The name tf.train.Optimizer is deprecated. Please use tf.compat.v1.train.Optimizer instead.\n",
            "\n",
            "W0828 15:47:49.776371 140139242628992 deprecation_wrapper.py:119] From /usr/local/lib/python3.6/dist-packages/keras/backend/tensorflow_backend.py:3295: The name tf.log is deprecated. Please use tf.math.log instead.\n",
            "\n"
          ],
          "name": "stderr"
        },
        {
          "output_type": "stream",
          "text": [
            "_________________________________________________________________\n",
            "Layer (type)                 Output Shape              Param #   \n",
            "=================================================================\n",
            "dense_1 (Dense)              (None, 625)               490625    \n",
            "_________________________________________________________________\n",
            "dense_2 (Dense)              (None, 10)                6260      \n",
            "=================================================================\n",
            "Total params: 496,885\n",
            "Trainable params: 496,885\n",
            "Non-trainable params: 0\n",
            "_________________________________________________________________\n"
          ],
          "name": "stdout"
        }
      ]
    },
    {
      "cell_type": "code",
      "metadata": {
        "id": "PE-W5SHZFByJ",
        "colab_type": "code",
        "outputId": "a595b151-843e-4e93-c26e-97dde1c8dac4",
        "colab": {
          "base_uri": "https://localhost:8080/",
          "height": 1000
        }
      },
      "source": [
        "history = model.fit(X_train_mlp, Y_train_mlp,\n",
        "          batch_size = batch_size,\n",
        "          epochs = num_epochs,\n",
        "          verbose = 1,\n",
        "          validation_data = (X_val_mlp,Y_val_mlp))"
      ],
      "execution_count": 0,
      "outputs": [
        {
          "output_type": "stream",
          "text": [
            "W0828 15:48:07.317878 140139242628992 deprecation.py:323] From /usr/local/lib/python3.6/dist-packages/tensorflow/python/ops/math_grad.py:1250: add_dispatch_support.<locals>.wrapper (from tensorflow.python.ops.array_ops) is deprecated and will be removed in a future version.\n",
            "Instructions for updating:\n",
            "Use tf.where in 2.0, which has the same broadcast rule as np.where\n",
            "W0828 15:48:07.370573 140139242628992 deprecation_wrapper.py:119] From /usr/local/lib/python3.6/dist-packages/keras/backend/tensorflow_backend.py:986: The name tf.assign_add is deprecated. Please use tf.compat.v1.assign_add instead.\n",
            "\n"
          ],
          "name": "stderr"
        },
        {
          "output_type": "stream",
          "text": [
            "Train on 48000 samples, validate on 12000 samples\n",
            "Epoch 1/50\n",
            "48000/48000 [==============================] - 6s 116us/step - loss: 1.3924 - acc: 0.6218 - val_loss: 0.9980 - val_acc: 0.7114\n",
            "Epoch 2/50\n",
            "48000/48000 [==============================] - 1s 21us/step - loss: 0.8599 - acc: 0.7337 - val_loss: 0.7936 - val_acc: 0.7281\n",
            "Epoch 3/50\n",
            "48000/48000 [==============================] - 1s 21us/step - loss: 0.7333 - acc: 0.7537 - val_loss: 0.7126 - val_acc: 0.7546\n",
            "Epoch 4/50\n",
            "48000/48000 [==============================] - 1s 21us/step - loss: 0.6725 - acc: 0.7683 - val_loss: 0.6706 - val_acc: 0.7571\n",
            "Epoch 5/50\n",
            "48000/48000 [==============================] - 1s 21us/step - loss: 0.6330 - acc: 0.7798 - val_loss: 0.6295 - val_acc: 0.7824\n",
            "Epoch 6/50\n",
            "48000/48000 [==============================] - 1s 20us/step - loss: 0.6045 - acc: 0.7894 - val_loss: 0.6206 - val_acc: 0.7730\n",
            "Epoch 7/50\n",
            "48000/48000 [==============================] - 1s 21us/step - loss: 0.5817 - acc: 0.7974 - val_loss: 0.5878 - val_acc: 0.7925\n",
            "Epoch 8/50\n",
            "48000/48000 [==============================] - 1s 21us/step - loss: 0.5642 - acc: 0.8035 - val_loss: 0.5793 - val_acc: 0.7970\n",
            "Epoch 9/50\n",
            "48000/48000 [==============================] - 1s 20us/step - loss: 0.5492 - acc: 0.8079 - val_loss: 0.5577 - val_acc: 0.8058\n",
            "Epoch 10/50\n",
            "48000/48000 [==============================] - 1s 20us/step - loss: 0.5362 - acc: 0.8130 - val_loss: 0.5505 - val_acc: 0.8064\n",
            "Epoch 11/50\n",
            "48000/48000 [==============================] - 1s 20us/step - loss: 0.5260 - acc: 0.8162 - val_loss: 0.5378 - val_acc: 0.8116\n",
            "Epoch 12/50\n",
            "48000/48000 [==============================] - 1s 20us/step - loss: 0.5165 - acc: 0.8199 - val_loss: 0.5288 - val_acc: 0.8134\n",
            "Epoch 13/50\n",
            "48000/48000 [==============================] - 1s 20us/step - loss: 0.5088 - acc: 0.8207 - val_loss: 0.5272 - val_acc: 0.8169\n",
            "Epoch 14/50\n",
            "48000/48000 [==============================] - 1s 20us/step - loss: 0.5014 - acc: 0.8245 - val_loss: 0.5122 - val_acc: 0.8249\n",
            "Epoch 15/50\n",
            "48000/48000 [==============================] - 1s 21us/step - loss: 0.4950 - acc: 0.8272 - val_loss: 0.5077 - val_acc: 0.8218\n",
            "Epoch 16/50\n",
            "48000/48000 [==============================] - 1s 21us/step - loss: 0.4893 - acc: 0.8289 - val_loss: 0.5112 - val_acc: 0.8214\n",
            "Epoch 17/50\n",
            "48000/48000 [==============================] - 1s 20us/step - loss: 0.4840 - acc: 0.8303 - val_loss: 0.4958 - val_acc: 0.8255\n",
            "Epoch 18/50\n",
            "48000/48000 [==============================] - 1s 20us/step - loss: 0.4798 - acc: 0.8313 - val_loss: 0.4909 - val_acc: 0.8312\n",
            "Epoch 19/50\n",
            "48000/48000 [==============================] - 1s 21us/step - loss: 0.4747 - acc: 0.8340 - val_loss: 0.4871 - val_acc: 0.8316\n",
            "Epoch 20/50\n",
            "48000/48000 [==============================] - 1s 20us/step - loss: 0.4708 - acc: 0.8346 - val_loss: 0.4827 - val_acc: 0.8339\n",
            "Epoch 21/50\n",
            "48000/48000 [==============================] - 1s 20us/step - loss: 0.4671 - acc: 0.8365 - val_loss: 0.4929 - val_acc: 0.8316\n",
            "Epoch 22/50\n",
            "48000/48000 [==============================] - 1s 20us/step - loss: 0.4638 - acc: 0.8374 - val_loss: 0.4769 - val_acc: 0.8358\n",
            "Epoch 23/50\n",
            "48000/48000 [==============================] - 1s 20us/step - loss: 0.4598 - acc: 0.8385 - val_loss: 0.4728 - val_acc: 0.8375\n",
            "Epoch 24/50\n",
            "48000/48000 [==============================] - 1s 20us/step - loss: 0.4571 - acc: 0.8390 - val_loss: 0.4723 - val_acc: 0.8372\n",
            "Epoch 25/50\n",
            "48000/48000 [==============================] - 1s 21us/step - loss: 0.4545 - acc: 0.8406 - val_loss: 0.4734 - val_acc: 0.8377\n",
            "Epoch 26/50\n",
            "48000/48000 [==============================] - 1s 20us/step - loss: 0.4521 - acc: 0.8410 - val_loss: 0.4701 - val_acc: 0.8387\n",
            "Epoch 27/50\n",
            "48000/48000 [==============================] - 1s 19us/step - loss: 0.4493 - acc: 0.8428 - val_loss: 0.4661 - val_acc: 0.8387\n",
            "Epoch 28/50\n",
            "48000/48000 [==============================] - 1s 20us/step - loss: 0.4467 - acc: 0.8435 - val_loss: 0.4640 - val_acc: 0.8429\n",
            "Epoch 29/50\n",
            "48000/48000 [==============================] - 1s 19us/step - loss: 0.4441 - acc: 0.8427 - val_loss: 0.4625 - val_acc: 0.8409\n",
            "Epoch 30/50\n",
            "48000/48000 [==============================] - 1s 21us/step - loss: 0.4414 - acc: 0.8439 - val_loss: 0.4597 - val_acc: 0.8427\n",
            "Epoch 31/50\n",
            "48000/48000 [==============================] - 1s 20us/step - loss: 0.4394 - acc: 0.8461 - val_loss: 0.4635 - val_acc: 0.8382\n",
            "Epoch 32/50\n",
            "48000/48000 [==============================] - 1s 20us/step - loss: 0.4380 - acc: 0.8470 - val_loss: 0.4549 - val_acc: 0.8439\n",
            "Epoch 33/50\n",
            "48000/48000 [==============================] - 1s 20us/step - loss: 0.4360 - acc: 0.8475 - val_loss: 0.4640 - val_acc: 0.8364\n",
            "Epoch 34/50\n",
            "48000/48000 [==============================] - 1s 20us/step - loss: 0.4339 - acc: 0.8474 - val_loss: 0.4502 - val_acc: 0.8471\n",
            "Epoch 35/50\n",
            "48000/48000 [==============================] - 1s 21us/step - loss: 0.4315 - acc: 0.8494 - val_loss: 0.4522 - val_acc: 0.8475\n",
            "Epoch 36/50\n",
            "48000/48000 [==============================] - 1s 20us/step - loss: 0.4300 - acc: 0.8483 - val_loss: 0.4492 - val_acc: 0.8446\n",
            "Epoch 37/50\n",
            "48000/48000 [==============================] - 1s 20us/step - loss: 0.4280 - acc: 0.8498 - val_loss: 0.4486 - val_acc: 0.8459\n",
            "Epoch 38/50\n",
            "48000/48000 [==============================] - 1s 20us/step - loss: 0.4268 - acc: 0.8499 - val_loss: 0.4464 - val_acc: 0.8478\n",
            "Epoch 39/50\n",
            "48000/48000 [==============================] - 1s 20us/step - loss: 0.4249 - acc: 0.8513 - val_loss: 0.4479 - val_acc: 0.8472\n",
            "Epoch 40/50\n",
            "48000/48000 [==============================] - 1s 21us/step - loss: 0.4235 - acc: 0.8516 - val_loss: 0.4431 - val_acc: 0.8478\n",
            "Epoch 41/50\n",
            "48000/48000 [==============================] - 1s 20us/step - loss: 0.4217 - acc: 0.8530 - val_loss: 0.4491 - val_acc: 0.8439\n",
            "Epoch 42/50\n",
            "48000/48000 [==============================] - 1s 20us/step - loss: 0.4202 - acc: 0.8528 - val_loss: 0.4435 - val_acc: 0.8493\n",
            "Epoch 43/50\n",
            "48000/48000 [==============================] - 1s 21us/step - loss: 0.4189 - acc: 0.8521 - val_loss: 0.4388 - val_acc: 0.8492\n",
            "Epoch 44/50\n",
            "48000/48000 [==============================] - 1s 20us/step - loss: 0.4178 - acc: 0.8529 - val_loss: 0.4381 - val_acc: 0.8506\n",
            "Epoch 45/50\n",
            "48000/48000 [==============================] - 1s 20us/step - loss: 0.4165 - acc: 0.8536 - val_loss: 0.4351 - val_acc: 0.8523\n",
            "Epoch 46/50\n",
            "48000/48000 [==============================] - 1s 21us/step - loss: 0.4147 - acc: 0.8531 - val_loss: 0.4394 - val_acc: 0.8506\n",
            "Epoch 47/50\n",
            "48000/48000 [==============================] - 1s 21us/step - loss: 0.4133 - acc: 0.8545 - val_loss: 0.4535 - val_acc: 0.8425\n",
            "Epoch 48/50\n",
            "48000/48000 [==============================] - 1s 20us/step - loss: 0.4120 - acc: 0.8555 - val_loss: 0.4317 - val_acc: 0.8524\n",
            "Epoch 49/50\n",
            "48000/48000 [==============================] - 1s 20us/step - loss: 0.4111 - acc: 0.8565 - val_loss: 0.4317 - val_acc: 0.8520\n",
            "Epoch 50/50\n",
            "48000/48000 [==============================] - 1s 20us/step - loss: 0.4098 - acc: 0.8562 - val_loss: 0.4343 - val_acc: 0.8521\n"
          ],
          "name": "stdout"
        }
      ]
    },
    {
      "cell_type": "code",
      "metadata": {
        "id": "VPY2NCaVGGb7",
        "colab_type": "code",
        "outputId": "e0554e70-3191-4902-f3fc-3083b07329e6",
        "colab": {
          "base_uri": "https://localhost:8080/",
          "height": 85
        }
      },
      "source": [
        "score = model.evaluate(X_test_mlp, Y_test_mlp, verbose = 1)\n",
        "print()\n",
        "print('MLP Test loss:', score[0])\n",
        "print('MLP Test accuracy:', score[1])"
      ],
      "execution_count": 0,
      "outputs": [
        {
          "output_type": "stream",
          "text": [
            "10000/10000 [==============================] - 0s 45us/step\n",
            "\n",
            "MLP Test loss: 0.45125982646942137\n",
            "MLP Test accuracy: 0.8399\n"
          ],
          "name": "stdout"
        }
      ]
    },
    {
      "cell_type": "markdown",
      "metadata": {
        "id": "MKjLTPsbGKfD",
        "colab_type": "text"
      },
      "source": [
        "**Deep Multi Layer Perceptron**"
      ]
    },
    {
      "cell_type": "code",
      "metadata": {
        "id": "k-bDi7MjGMIe",
        "colab_type": "code",
        "colab": {}
      },
      "source": [
        "from keras.models import Sequential\n",
        "from keras.layers import Dense, Activation, Dropout\n",
        "from keras.optimizers import RMSprop\n",
        "from keras.datasets import mnist\n",
        "from keras.utils import np_utils"
      ],
      "execution_count": 0,
      "outputs": []
    },
    {
      "cell_type": "code",
      "metadata": {
        "id": "2_4fKqsVGOMC",
        "colab_type": "code",
        "outputId": "63f25c69-265e-473a-a194-4334f1ad14b4",
        "colab": {
          "base_uri": "https://localhost:8080/",
          "height": 581
        }
      },
      "source": [
        "# Deep Multilayer Perceptron model\n",
        "model_deepmlp = Sequential()\n",
        "\n",
        "model_deepmlp.add(Dense(input_dim=784, units=625, kernel_initializer='normal'))\n",
        "model_deepmlp.add(Activation('relu'))\n",
        "model_deepmlp.add(Dropout(0.2))\n",
        "\n",
        "model_deepmlp.add(Dense(input_dim=625, units=625, kernel_initializer='normal'))\n",
        "model_deepmlp.add(Activation('relu'))\n",
        "model_deepmlp.add(Dropout(0.2))\n",
        "\n",
        "model_deepmlp.add(Dense(input_dim=625, units=625, kernel_initializer='normal'))\n",
        "model_deepmlp.add(Activation('relu'))\n",
        "model_deepmlp.add(Dropout(0.2))\n",
        "\n",
        "model_deepmlp.add(Dense(input_dim=625, units=10, kernel_initializer='normal'))\n",
        "model_deepmlp.add(Activation('softmax'))\n",
        "\n",
        "model_deepmlp.compile(optimizer=RMSprop(lr=0.001, rho=0.9), \n",
        "              loss='categorical_crossentropy', metrics=['accuracy'])\n",
        "\n",
        "model_deepmlp.summary()"
      ],
      "execution_count": 0,
      "outputs": [
        {
          "output_type": "stream",
          "text": [
            "W0828 15:50:15.229695 140139242628992 deprecation.py:506] From /usr/local/lib/python3.6/dist-packages/keras/backend/tensorflow_backend.py:3445: calling dropout (from tensorflow.python.ops.nn_ops) with keep_prob is deprecated and will be removed in a future version.\n",
            "Instructions for updating:\n",
            "Please use `rate` instead of `keep_prob`. Rate should be set to `rate = 1 - keep_prob`.\n"
          ],
          "name": "stderr"
        },
        {
          "output_type": "stream",
          "text": [
            "_________________________________________________________________\n",
            "Layer (type)                 Output Shape              Param #   \n",
            "=================================================================\n",
            "dense_3 (Dense)              (None, 625)               490625    \n",
            "_________________________________________________________________\n",
            "activation_1 (Activation)    (None, 625)               0         \n",
            "_________________________________________________________________\n",
            "dropout_1 (Dropout)          (None, 625)               0         \n",
            "_________________________________________________________________\n",
            "dense_4 (Dense)              (None, 625)               391250    \n",
            "_________________________________________________________________\n",
            "activation_2 (Activation)    (None, 625)               0         \n",
            "_________________________________________________________________\n",
            "dropout_2 (Dropout)          (None, 625)               0         \n",
            "_________________________________________________________________\n",
            "dense_5 (Dense)              (None, 625)               391250    \n",
            "_________________________________________________________________\n",
            "activation_3 (Activation)    (None, 625)               0         \n",
            "_________________________________________________________________\n",
            "dropout_3 (Dropout)          (None, 625)               0         \n",
            "_________________________________________________________________\n",
            "dense_6 (Dense)              (None, 10)                6260      \n",
            "_________________________________________________________________\n",
            "activation_4 (Activation)    (None, 10)                0         \n",
            "=================================================================\n",
            "Total params: 1,279,385\n",
            "Trainable params: 1,279,385\n",
            "Non-trainable params: 0\n",
            "_________________________________________________________________\n"
          ],
          "name": "stdout"
        }
      ]
    },
    {
      "cell_type": "code",
      "metadata": {
        "id": "o9qfpzENGSg2",
        "colab_type": "code",
        "outputId": "89899c15-37aa-48af-a2ce-1cf7095be8b8",
        "colab": {
          "base_uri": "https://localhost:8080/",
          "height": 1000
        }
      },
      "source": [
        "history_deepmlp = model_deepmlp.fit(X_train_mlp, Y_train_mlp,\n",
        "                                    batch_size = batch_size,\n",
        "                                    epochs = num_epochs,\n",
        "                                    verbose = 1,\n",
        "                                    validation_data = (X_val_mlp,Y_val_mlp))"
      ],
      "execution_count": 0,
      "outputs": [
        {
          "output_type": "stream",
          "text": [
            "Train on 48000 samples, validate on 12000 samples\n",
            "Epoch 1/50\n",
            "48000/48000 [==============================] - 2s 42us/step - loss: 0.6946 - acc: 0.7525 - val_loss: 0.5352 - val_acc: 0.8074\n",
            "Epoch 2/50\n",
            "48000/48000 [==============================] - 2s 38us/step - loss: 0.4521 - acc: 0.8335 - val_loss: 0.4597 - val_acc: 0.8266\n",
            "Epoch 3/50\n",
            "48000/48000 [==============================] - 2s 38us/step - loss: 0.3963 - acc: 0.8527 - val_loss: 0.4528 - val_acc: 0.8432\n",
            "Epoch 4/50\n",
            "48000/48000 [==============================] - 2s 38us/step - loss: 0.3709 - acc: 0.8642 - val_loss: 0.4054 - val_acc: 0.8585\n",
            "Epoch 5/50\n",
            "48000/48000 [==============================] - 2s 38us/step - loss: 0.3456 - acc: 0.8711 - val_loss: 0.3962 - val_acc: 0.8617\n",
            "Epoch 6/50\n",
            "48000/48000 [==============================] - 2s 38us/step - loss: 0.3298 - acc: 0.8766 - val_loss: 0.3820 - val_acc: 0.8549\n",
            "Epoch 7/50\n",
            "48000/48000 [==============================] - 2s 38us/step - loss: 0.3193 - acc: 0.8814 - val_loss: 0.3988 - val_acc: 0.8577\n",
            "Epoch 8/50\n",
            "48000/48000 [==============================] - 2s 38us/step - loss: 0.3115 - acc: 0.8844 - val_loss: 0.3802 - val_acc: 0.8664\n",
            "Epoch 9/50\n",
            "48000/48000 [==============================] - 2s 38us/step - loss: 0.3034 - acc: 0.8879 - val_loss: 0.3324 - val_acc: 0.8860\n",
            "Epoch 10/50\n",
            "48000/48000 [==============================] - 2s 38us/step - loss: 0.2932 - acc: 0.8906 - val_loss: 0.3541 - val_acc: 0.8787\n",
            "Epoch 11/50\n",
            "48000/48000 [==============================] - 2s 38us/step - loss: 0.2933 - acc: 0.8929 - val_loss: 0.3670 - val_acc: 0.8803\n",
            "Epoch 12/50\n",
            "48000/48000 [==============================] - 2s 38us/step - loss: 0.2886 - acc: 0.8934 - val_loss: 0.4055 - val_acc: 0.8672\n",
            "Epoch 13/50\n",
            "48000/48000 [==============================] - 2s 37us/step - loss: 0.2784 - acc: 0.8977 - val_loss: 0.3656 - val_acc: 0.8842\n",
            "Epoch 14/50\n",
            "48000/48000 [==============================] - 2s 37us/step - loss: 0.2768 - acc: 0.8975 - val_loss: 0.3461 - val_acc: 0.8910\n",
            "Epoch 15/50\n",
            "48000/48000 [==============================] - 2s 37us/step - loss: 0.2742 - acc: 0.9013 - val_loss: 0.3271 - val_acc: 0.8914\n",
            "Epoch 16/50\n",
            "48000/48000 [==============================] - 2s 38us/step - loss: 0.2713 - acc: 0.9000 - val_loss: 0.3757 - val_acc: 0.8852\n",
            "Epoch 17/50\n",
            "48000/48000 [==============================] - 2s 37us/step - loss: 0.2670 - acc: 0.9013 - val_loss: 0.3704 - val_acc: 0.8799\n",
            "Epoch 18/50\n",
            "48000/48000 [==============================] - 2s 37us/step - loss: 0.2654 - acc: 0.9025 - val_loss: 0.3639 - val_acc: 0.8899\n",
            "Epoch 19/50\n",
            "48000/48000 [==============================] - 2s 38us/step - loss: 0.2614 - acc: 0.9055 - val_loss: 0.3490 - val_acc: 0.8906\n",
            "Epoch 20/50\n",
            "48000/48000 [==============================] - 2s 38us/step - loss: 0.2587 - acc: 0.9052 - val_loss: 0.4115 - val_acc: 0.8803\n",
            "Epoch 21/50\n",
            "48000/48000 [==============================] - 2s 38us/step - loss: 0.2560 - acc: 0.9079 - val_loss: 0.3823 - val_acc: 0.8778\n",
            "Epoch 22/50\n",
            "48000/48000 [==============================] - 2s 37us/step - loss: 0.2525 - acc: 0.9092 - val_loss: 0.3772 - val_acc: 0.8827\n",
            "Epoch 23/50\n",
            "48000/48000 [==============================] - 2s 38us/step - loss: 0.2513 - acc: 0.9098 - val_loss: 0.4039 - val_acc: 0.8792\n",
            "Epoch 24/50\n",
            "48000/48000 [==============================] - 2s 38us/step - loss: 0.2484 - acc: 0.9099 - val_loss: 0.4229 - val_acc: 0.8743\n",
            "Epoch 25/50\n",
            "48000/48000 [==============================] - 2s 38us/step - loss: 0.2517 - acc: 0.9101 - val_loss: 0.3578 - val_acc: 0.8840\n",
            "Epoch 26/50\n",
            "48000/48000 [==============================] - 2s 38us/step - loss: 0.2480 - acc: 0.9116 - val_loss: 0.4102 - val_acc: 0.8807\n",
            "Epoch 27/50\n",
            "48000/48000 [==============================] - 2s 38us/step - loss: 0.2439 - acc: 0.9117 - val_loss: 0.3796 - val_acc: 0.8922\n",
            "Epoch 28/50\n",
            "48000/48000 [==============================] - 2s 38us/step - loss: 0.2456 - acc: 0.9128 - val_loss: 0.4248 - val_acc: 0.8900\n",
            "Epoch 29/50\n",
            "48000/48000 [==============================] - 2s 38us/step - loss: 0.2391 - acc: 0.9146 - val_loss: 0.4096 - val_acc: 0.8701\n",
            "Epoch 30/50\n",
            "48000/48000 [==============================] - 2s 37us/step - loss: 0.2472 - acc: 0.9134 - val_loss: 0.3824 - val_acc: 0.8904\n",
            "Epoch 31/50\n",
            "48000/48000 [==============================] - 2s 38us/step - loss: 0.2371 - acc: 0.9144 - val_loss: 0.3894 - val_acc: 0.8849\n",
            "Epoch 32/50\n",
            "48000/48000 [==============================] - 2s 38us/step - loss: 0.2376 - acc: 0.9170 - val_loss: 0.3958 - val_acc: 0.8863\n",
            "Epoch 33/50\n",
            "48000/48000 [==============================] - 2s 39us/step - loss: 0.2403 - acc: 0.9166 - val_loss: 0.4161 - val_acc: 0.8878\n",
            "Epoch 34/50\n",
            "48000/48000 [==============================] - 2s 38us/step - loss: 0.2378 - acc: 0.9182 - val_loss: 0.4248 - val_acc: 0.8845\n",
            "Epoch 35/50\n",
            "48000/48000 [==============================] - 2s 38us/step - loss: 0.2428 - acc: 0.9177 - val_loss: 0.3878 - val_acc: 0.8907\n",
            "Epoch 36/50\n",
            "48000/48000 [==============================] - 2s 38us/step - loss: 0.2342 - acc: 0.9187 - val_loss: 0.3959 - val_acc: 0.8896\n",
            "Epoch 37/50\n",
            "48000/48000 [==============================] - 2s 38us/step - loss: 0.2316 - acc: 0.9201 - val_loss: 0.4158 - val_acc: 0.8890\n",
            "Epoch 38/50\n",
            "48000/48000 [==============================] - 2s 38us/step - loss: 0.2294 - acc: 0.9199 - val_loss: 0.4057 - val_acc: 0.8955\n",
            "Epoch 39/50\n",
            "48000/48000 [==============================] - 2s 38us/step - loss: 0.2325 - acc: 0.9204 - val_loss: 0.3838 - val_acc: 0.8982\n",
            "Epoch 40/50\n",
            "48000/48000 [==============================] - 2s 38us/step - loss: 0.2241 - acc: 0.9236 - val_loss: 0.4411 - val_acc: 0.8910\n",
            "Epoch 41/50\n",
            "48000/48000 [==============================] - 2s 38us/step - loss: 0.2243 - acc: 0.9222 - val_loss: 0.3984 - val_acc: 0.8865\n",
            "Epoch 42/50\n",
            "48000/48000 [==============================] - 2s 38us/step - loss: 0.2219 - acc: 0.9220 - val_loss: 0.4086 - val_acc: 0.8957\n",
            "Epoch 43/50\n",
            "48000/48000 [==============================] - 2s 38us/step - loss: 0.2190 - acc: 0.9239 - val_loss: 0.4293 - val_acc: 0.8862\n",
            "Epoch 44/50\n",
            "48000/48000 [==============================] - 2s 38us/step - loss: 0.2180 - acc: 0.9241 - val_loss: 0.4789 - val_acc: 0.8862\n",
            "Epoch 45/50\n",
            "48000/48000 [==============================] - 2s 38us/step - loss: 0.2180 - acc: 0.9250 - val_loss: 0.4712 - val_acc: 0.8907\n",
            "Epoch 46/50\n",
            "48000/48000 [==============================] - 2s 38us/step - loss: 0.2171 - acc: 0.9230 - val_loss: 0.4286 - val_acc: 0.8927\n",
            "Epoch 47/50\n",
            "48000/48000 [==============================] - 2s 38us/step - loss: 0.2159 - acc: 0.9263 - val_loss: 0.4394 - val_acc: 0.8894\n",
            "Epoch 48/50\n",
            "48000/48000 [==============================] - 2s 38us/step - loss: 0.2140 - acc: 0.9255 - val_loss: 0.4200 - val_acc: 0.8862\n",
            "Epoch 49/50\n",
            "48000/48000 [==============================] - 2s 38us/step - loss: 0.2210 - acc: 0.9231 - val_loss: 0.4107 - val_acc: 0.8909\n",
            "Epoch 50/50\n",
            "48000/48000 [==============================] - 2s 38us/step - loss: 0.2100 - acc: 0.9284 - val_loss: 0.4397 - val_acc: 0.8911\n"
          ],
          "name": "stdout"
        }
      ]
    },
    {
      "cell_type": "code",
      "metadata": {
        "id": "a7sZ1GCkGXZw",
        "colab_type": "code",
        "outputId": "045e088e-2989-4649-bb05-713bbe7c9234",
        "colab": {
          "base_uri": "https://localhost:8080/",
          "height": 85
        }
      },
      "source": [
        "score = model_deepmlp.evaluate(X_test_mlp, Y_test_mlp, verbose = 1)\n",
        "print()\n",
        "print('Deep MLP Test loss:', score[0])\n",
        "print('Deep MLP Test accuracy:', score[1])"
      ],
      "execution_count": 0,
      "outputs": [
        {
          "output_type": "stream",
          "text": [
            "10000/10000 [==============================] - 1s 57us/step\n",
            "\n",
            "Deep MLP Test loss: 0.48536161994636057\n",
            "Deep MLP Test accuracy: 0.885\n"
          ],
          "name": "stdout"
        }
      ]
    },
    {
      "cell_type": "markdown",
      "metadata": {
        "id": "XU-YQ0KNGY8B",
        "colab_type": "text"
      },
      "source": [
        "**Convolutional Neural Networks**"
      ]
    },
    {
      "cell_type": "code",
      "metadata": {
        "id": "TTGlpobPGbB0",
        "colab_type": "code",
        "colab": {
          "base_uri": "https://localhost:8080/",
          "height": 80
        },
        "outputId": "33e6561e-ffa0-4d51-93b2-806050ad95b1"
      },
      "source": [
        "from keras.models import Sequential\n",
        "from keras.layers import Dense, Dropout, Flatten\n",
        "from keras.layers import Conv2D, MaxPooling2D, GlobalAveragePooling2D"
      ],
      "execution_count": 3,
      "outputs": [
        {
          "output_type": "stream",
          "text": [
            "Using TensorFlow backend.\n"
          ],
          "name": "stderr"
        },
        {
          "output_type": "display_data",
          "data": {
            "text/html": [
              "<p style=\"color: red;\">\n",
              "The default version of TensorFlow in Colab will soon switch to TensorFlow 2.x.<br>\n",
              "We recommend you <a href=\"https://www.tensorflow.org/guide/migrate\" target=\"_blank\">upgrade</a> now \n",
              "or ensure your notebook will continue to use TensorFlow 1.x via the <code>%tensorflow_version 1.x</code> magic:\n",
              "<a href=\"https://colab.research.google.com/notebooks/tensorflow_version.ipynb\" target=\"_blank\">more info</a>.</p>\n"
            ],
            "text/plain": [
              "<IPython.core.display.HTML object>"
            ]
          },
          "metadata": {
            "tags": []
          }
        }
      ]
    },
    {
      "cell_type": "code",
      "metadata": {
        "id": "mh9MSijVGdZG",
        "colab_type": "code",
        "outputId": "583494fc-23e7-4fa6-f9fc-e4a38fad528f",
        "colab": {
          "base_uri": "https://localhost:8080/",
          "height": 649
        }
      },
      "source": [
        "img_rows, img_cols = 28,28\n",
        "num_classes = 10\n",
        "input_shape = (img_rows,img_cols,1)\n",
        "\n",
        "model_cnn = Sequential()\n",
        "model_cnn.add(Conv2D(32, (3,3), activation='relu',kernel_initializer='normal', input_shape=input_shape))\n",
        "model_cnn.add(MaxPooling2D((2,2)))\n",
        "model_cnn.add(Dropout(0.25))\n",
        "\n",
        "model_cnn.add(Conv2D(64, (3,3), activation='relu'))\n",
        "model_cnn.add(MaxPooling2D((2,2)))\n",
        "model_cnn.add(Dropout(0.25))\n",
        "\n",
        "model_cnn.add(Conv2D(128, (3,3), activation='relu'))\n",
        "model_cnn.add(Dropout(0.4))\n",
        "\n",
        "model_cnn.add(Flatten())\n",
        "\n",
        "model_cnn.add(Dense(128, activation='relu'))\n",
        "model_cnn.add(Dropout(0.3))\n",
        "\n",
        "model_cnn.add(Dense(num_classes, activation='softmax'))\n",
        "\n",
        "model_cnn.compile(loss=keras.losses.categorical_crossentropy,optimizer=keras.optimizers.Adam(),metrics=['accuracy'])\n",
        "\n",
        "model_cnn.summary()"
      ],
      "execution_count": 7,
      "outputs": [
        {
          "output_type": "stream",
          "text": [
            "WARNING:tensorflow:From /usr/local/lib/python3.6/dist-packages/keras/optimizers.py:793: The name tf.train.Optimizer is deprecated. Please use tf.compat.v1.train.Optimizer instead.\n",
            "\n",
            "WARNING:tensorflow:From /usr/local/lib/python3.6/dist-packages/keras/backend/tensorflow_backend.py:3576: The name tf.log is deprecated. Please use tf.math.log instead.\n",
            "\n",
            "Model: \"sequential_3\"\n",
            "_________________________________________________________________\n",
            "Layer (type)                 Output Shape              Param #   \n",
            "=================================================================\n",
            "conv2d_7 (Conv2D)            (None, 26, 26, 32)        320       \n",
            "_________________________________________________________________\n",
            "max_pooling2d_5 (MaxPooling2 (None, 13, 13, 32)        0         \n",
            "_________________________________________________________________\n",
            "dropout_9 (Dropout)          (None, 13, 13, 32)        0         \n",
            "_________________________________________________________________\n",
            "conv2d_8 (Conv2D)            (None, 11, 11, 64)        18496     \n",
            "_________________________________________________________________\n",
            "max_pooling2d_6 (MaxPooling2 (None, 5, 5, 64)          0         \n",
            "_________________________________________________________________\n",
            "dropout_10 (Dropout)         (None, 5, 5, 64)          0         \n",
            "_________________________________________________________________\n",
            "conv2d_9 (Conv2D)            (None, 3, 3, 128)         73856     \n",
            "_________________________________________________________________\n",
            "dropout_11 (Dropout)         (None, 3, 3, 128)         0         \n",
            "_________________________________________________________________\n",
            "flatten_3 (Flatten)          (None, 1152)              0         \n",
            "_________________________________________________________________\n",
            "dense_4 (Dense)              (None, 128)               147584    \n",
            "_________________________________________________________________\n",
            "dropout_12 (Dropout)         (None, 128)               0         \n",
            "_________________________________________________________________\n",
            "dense_5 (Dense)              (None, 10)                1290      \n",
            "=================================================================\n",
            "Total params: 241,546\n",
            "Trainable params: 241,546\n",
            "Non-trainable params: 0\n",
            "_________________________________________________________________\n"
          ],
          "name": "stdout"
        }
      ]
    },
    {
      "cell_type": "code",
      "metadata": {
        "id": "Gc6Y2DdYGgpV",
        "colab_type": "code",
        "outputId": "d42d6806-9f17-4080-9105-3cff159cc152",
        "colab": {
          "base_uri": "https://localhost:8080/",
          "height": 1734
        }
      },
      "source": [
        "history_cnn = model_cnn.fit(X_train_cnn, Y_train_cnn,\n",
        "                            batch_size = batch_size,\n",
        "                            epochs = num_epochs,\n",
        "                            verbose = 1,\n",
        "                            validation_data = (X_val_cnn,Y_val_cnn))"
      ],
      "execution_count": 0,
      "outputs": [
        {
          "output_type": "stream",
          "text": [
            "Train on 60000 samples, validate on 12000 samples\n",
            "Epoch 1/50\n",
            "60000/60000 [==============================] - 6s 93us/step - loss: 0.8327 - acc: 0.6839 - val_loss: 0.4899 - val_acc: 0.8149\n",
            "Epoch 2/50\n",
            "60000/60000 [==============================] - 4s 75us/step - loss: 0.5142 - acc: 0.8071 - val_loss: 0.3932 - val_acc: 0.8554\n",
            "Epoch 3/50\n",
            "60000/60000 [==============================] - 5s 75us/step - loss: 0.4376 - acc: 0.8392 - val_loss: 0.3484 - val_acc: 0.8732\n",
            "Epoch 4/50\n",
            "60000/60000 [==============================] - 5s 75us/step - loss: 0.3910 - acc: 0.8559 - val_loss: 0.3099 - val_acc: 0.8859\n",
            "Epoch 5/50\n",
            "60000/60000 [==============================] - 5s 76us/step - loss: 0.3662 - acc: 0.8646 - val_loss: 0.2824 - val_acc: 0.8989\n",
            "Epoch 6/50\n",
            "60000/60000 [==============================] - 5s 75us/step - loss: 0.3435 - acc: 0.8740 - val_loss: 0.2639 - val_acc: 0.9043\n",
            "Epoch 7/50\n",
            "60000/60000 [==============================] - 5s 75us/step - loss: 0.3277 - acc: 0.8803 - val_loss: 0.2521 - val_acc: 0.9075\n",
            "Epoch 8/50\n",
            "60000/60000 [==============================] - 4s 75us/step - loss: 0.3138 - acc: 0.8851 - val_loss: 0.2486 - val_acc: 0.9088\n",
            "Epoch 9/50\n",
            "60000/60000 [==============================] - 4s 75us/step - loss: 0.3086 - acc: 0.8868 - val_loss: 0.2392 - val_acc: 0.9129\n",
            "Epoch 10/50\n",
            "60000/60000 [==============================] - 5s 75us/step - loss: 0.2954 - acc: 0.8916 - val_loss: 0.2260 - val_acc: 0.9165\n",
            "Epoch 11/50\n",
            "60000/60000 [==============================] - 5s 75us/step - loss: 0.2888 - acc: 0.8934 - val_loss: 0.2187 - val_acc: 0.9193\n",
            "Epoch 12/50\n",
            "60000/60000 [==============================] - 4s 75us/step - loss: 0.2826 - acc: 0.8957 - val_loss: 0.2318 - val_acc: 0.9144\n",
            "Epoch 13/50\n",
            "60000/60000 [==============================] - 5s 75us/step - loss: 0.2765 - acc: 0.8981 - val_loss: 0.1992 - val_acc: 0.9257\n",
            "Epoch 14/50\n",
            "60000/60000 [==============================] - 5s 75us/step - loss: 0.2669 - acc: 0.9018 - val_loss: 0.2059 - val_acc: 0.9257\n",
            "Epoch 15/50\n",
            "60000/60000 [==============================] - 5s 75us/step - loss: 0.2619 - acc: 0.9037 - val_loss: 0.1954 - val_acc: 0.9288\n",
            "Epoch 16/50\n",
            "60000/60000 [==============================] - 5s 75us/step - loss: 0.2588 - acc: 0.9045 - val_loss: 0.1860 - val_acc: 0.9328\n",
            "Epoch 17/50\n",
            "60000/60000 [==============================] - 4s 75us/step - loss: 0.2537 - acc: 0.9069 - val_loss: 0.1810 - val_acc: 0.9346\n",
            "Epoch 18/50\n",
            "60000/60000 [==============================] - 4s 75us/step - loss: 0.2477 - acc: 0.9081 - val_loss: 0.1764 - val_acc: 0.9358\n",
            "Epoch 19/50\n",
            "60000/60000 [==============================] - 4s 75us/step - loss: 0.2472 - acc: 0.9082 - val_loss: 0.1700 - val_acc: 0.9382\n",
            "Epoch 20/50\n",
            "60000/60000 [==============================] - 4s 75us/step - loss: 0.2436 - acc: 0.9082 - val_loss: 0.1726 - val_acc: 0.9383\n",
            "Epoch 21/50\n",
            "60000/60000 [==============================] - 5s 75us/step - loss: 0.2380 - acc: 0.9113 - val_loss: 0.1647 - val_acc: 0.9398\n",
            "Epoch 22/50\n",
            "60000/60000 [==============================] - 5s 75us/step - loss: 0.2389 - acc: 0.9116 - val_loss: 0.1623 - val_acc: 0.9425\n",
            "Epoch 23/50\n",
            "60000/60000 [==============================] - 5s 75us/step - loss: 0.2322 - acc: 0.9141 - val_loss: 0.1614 - val_acc: 0.9410\n",
            "Epoch 24/50\n",
            "60000/60000 [==============================] - 4s 75us/step - loss: 0.2311 - acc: 0.9131 - val_loss: 0.1583 - val_acc: 0.9437\n",
            "Epoch 25/50\n",
            "60000/60000 [==============================] - 5s 75us/step - loss: 0.2278 - acc: 0.9142 - val_loss: 0.1572 - val_acc: 0.9433\n",
            "Epoch 26/50\n",
            "60000/60000 [==============================] - 4s 75us/step - loss: 0.2269 - acc: 0.9157 - val_loss: 0.1622 - val_acc: 0.9388\n",
            "Epoch 27/50\n",
            "60000/60000 [==============================] - 4s 75us/step - loss: 0.2240 - acc: 0.9168 - val_loss: 0.1473 - val_acc: 0.9469\n",
            "Epoch 28/50\n",
            "60000/60000 [==============================] - 5s 75us/step - loss: 0.2193 - acc: 0.9194 - val_loss: 0.1438 - val_acc: 0.9470\n",
            "Epoch 29/50\n",
            "60000/60000 [==============================] - 4s 75us/step - loss: 0.2168 - acc: 0.9193 - val_loss: 0.1446 - val_acc: 0.9477\n",
            "Epoch 30/50\n",
            "60000/60000 [==============================] - 4s 75us/step - loss: 0.2163 - acc: 0.9187 - val_loss: 0.1423 - val_acc: 0.9485\n",
            "Epoch 31/50\n",
            "60000/60000 [==============================] - 5s 75us/step - loss: 0.2166 - acc: 0.9183 - val_loss: 0.1361 - val_acc: 0.9503\n",
            "Epoch 32/50\n",
            "60000/60000 [==============================] - 5s 75us/step - loss: 0.2118 - acc: 0.9218 - val_loss: 0.1404 - val_acc: 0.9481\n",
            "Epoch 33/50\n",
            "60000/60000 [==============================] - 5s 75us/step - loss: 0.2118 - acc: 0.9203 - val_loss: 0.1417 - val_acc: 0.9469\n",
            "Epoch 34/50\n",
            "60000/60000 [==============================] - 5s 75us/step - loss: 0.2078 - acc: 0.9237 - val_loss: 0.1299 - val_acc: 0.9510\n",
            "Epoch 35/50\n",
            "60000/60000 [==============================] - 4s 75us/step - loss: 0.2098 - acc: 0.9209 - val_loss: 0.1523 - val_acc: 0.9435\n",
            "Epoch 36/50\n",
            "60000/60000 [==============================] - 5s 75us/step - loss: 0.2081 - acc: 0.9225 - val_loss: 0.1326 - val_acc: 0.9515\n",
            "Epoch 37/50\n",
            "60000/60000 [==============================] - 5s 75us/step - loss: 0.2038 - acc: 0.9238 - val_loss: 0.1348 - val_acc: 0.9509\n",
            "Epoch 38/50\n",
            "60000/60000 [==============================] - 5s 75us/step - loss: 0.2024 - acc: 0.9236 - val_loss: 0.1240 - val_acc: 0.9543\n",
            "Epoch 39/50\n",
            "60000/60000 [==============================] - 5s 75us/step - loss: 0.2018 - acc: 0.9243 - val_loss: 0.1223 - val_acc: 0.9565\n",
            "Epoch 40/50\n",
            "60000/60000 [==============================] - 4s 75us/step - loss: 0.2016 - acc: 0.9242 - val_loss: 0.1183 - val_acc: 0.9558\n",
            "Epoch 41/50\n",
            "60000/60000 [==============================] - 5s 75us/step - loss: 0.2014 - acc: 0.9239 - val_loss: 0.1197 - val_acc: 0.9563\n",
            "Epoch 42/50\n",
            "60000/60000 [==============================] - 4s 75us/step - loss: 0.1977 - acc: 0.9249 - val_loss: 0.1186 - val_acc: 0.9582\n",
            "Epoch 43/50\n",
            "60000/60000 [==============================] - 4s 75us/step - loss: 0.1969 - acc: 0.9251 - val_loss: 0.1224 - val_acc: 0.9561\n",
            "Epoch 44/50\n",
            "60000/60000 [==============================] - 4s 75us/step - loss: 0.1965 - acc: 0.9257 - val_loss: 0.1145 - val_acc: 0.9583\n",
            "Epoch 45/50\n",
            "60000/60000 [==============================] - 4s 75us/step - loss: 0.1927 - acc: 0.9262 - val_loss: 0.1365 - val_acc: 0.9493\n",
            "Epoch 46/50\n",
            "60000/60000 [==============================] - 5s 75us/step - loss: 0.1954 - acc: 0.9271 - val_loss: 0.1169 - val_acc: 0.9577\n",
            "Epoch 47/50\n",
            "60000/60000 [==============================] - 4s 75us/step - loss: 0.1922 - acc: 0.9268 - val_loss: 0.1138 - val_acc: 0.9604\n",
            "Epoch 48/50\n",
            "60000/60000 [==============================] - 4s 75us/step - loss: 0.1900 - acc: 0.9286 - val_loss: 0.1132 - val_acc: 0.9590\n",
            "Epoch 49/50\n",
            "60000/60000 [==============================] - 5s 75us/step - loss: 0.1911 - acc: 0.9286 - val_loss: 0.1093 - val_acc: 0.9607\n",
            "Epoch 50/50\n",
            "60000/60000 [==============================] - 4s 75us/step - loss: 0.1881 - acc: 0.9292 - val_loss: 0.1118 - val_acc: 0.9603\n"
          ],
          "name": "stdout"
        }
      ]
    },
    {
      "cell_type": "code",
      "metadata": {
        "id": "cSZ543KMWpZr",
        "colab_type": "code",
        "outputId": "98989a62-49b2-4695-9242-0a3c0ab46393",
        "colab": {
          "base_uri": "https://localhost:8080/",
          "height": 34
        }
      },
      "source": [
        "X_test_cnn.shape"
      ],
      "execution_count": 0,
      "outputs": [
        {
          "output_type": "execute_result",
          "data": {
            "text/plain": [
              "(10000, 28, 28, 1)"
            ]
          },
          "metadata": {
            "tags": []
          },
          "execution_count": 85
        }
      ]
    },
    {
      "cell_type": "code",
      "metadata": {
        "id": "4qbDreDDGpfv",
        "colab_type": "code",
        "outputId": "2cd09021-76d4-4525-f2de-e42f28f7e9d2",
        "colab": {
          "base_uri": "https://localhost:8080/",
          "height": 85
        }
      },
      "source": [
        "score = model_cnn.evaluate(X_test_cnn, Y_test_cnn, verbose = 1)\n",
        "print()\n",
        "print('CNN Test loss:', score[0])\n",
        "print('CNN Test accuracy:', score[1])"
      ],
      "execution_count": 0,
      "outputs": [
        {
          "output_type": "stream",
          "text": [
            "10000/10000 [==============================] - 1s 93us/step\n",
            "\n",
            "CNN Test loss: 0.2159658547580242\n",
            "CNN Test accuracy: 0.9243\n"
          ],
          "name": "stdout"
        }
      ]
    },
    {
      "cell_type": "markdown",
      "metadata": {
        "id": "nvktr0JUIZZD",
        "colab_type": "text"
      },
      "source": [
        "**Results**"
      ]
    },
    {
      "cell_type": "code",
      "metadata": {
        "id": "z28SuHCjIYbU",
        "colab_type": "code",
        "outputId": "d262e4ef-d165-453b-bb4a-b8c71310da20",
        "colab": {
          "base_uri": "https://localhost:8080/",
          "height": 707
        }
      },
      "source": [
        "accuracy = history_cnn.history['acc']\n",
        "val_accuracy = history_cnn.history['val_acc']\n",
        "\n",
        "loss = history_cnn.history['loss']\n",
        "val_loss = history_cnn.history['val_loss']\n",
        "\n",
        "epochs = range(len(accuracy))\n",
        "plt.plot(epochs, accuracy, 'b', label='Training accuracy')\n",
        "plt.plot(epochs, val_accuracy, 'r', label='Validation accuracy')\n",
        "plt.title('Training and validation accuracy')\n",
        "plt.legend()\n",
        "\n",
        "plt.figure()\n",
        "plt.plot(epochs, loss, 'b', label='Training loss')\n",
        "plt.plot(epochs, val_loss, 'r', label='Validation loss')\n",
        "plt.title('Training and validation loss')\n",
        "plt.legend()\n",
        "plt.show()"
      ],
      "execution_count": 0,
      "outputs": [
        {
          "output_type": "display_data",
          "data": {
            "image/png": "[encoded data removed]",
            "text/plain": [
              "<Figure size 576x396 with 1 Axes>"
            ]
          },
          "metadata": {
            "tags": []
          }
        },
        {
          "output_type": "display_data",
          "data": {
            "image/png": "[encoded data removed]",
            "text/plain": [
              "<Figure size 576x396 with 1 Axes>"
            ]
          },
          "metadata": {
            "tags": []
          }
        }
      ]
    },
    {
      "cell_type": "markdown",
      "metadata": {
        "id": "y3wSJpPFIjco",
        "colab_type": "text"
      },
      "source": [
        "**Classification Report**"
      ]
    },
    {
      "cell_type": "code",
      "metadata": {
        "id": "V2lnrPOnIkp5",
        "colab_type": "code",
        "outputId": "b0c40bba-5230-46cc-f686-f1c82194dd93",
        "colab": {
          "base_uri": "https://localhost:8080/",
          "height": 306
        }
      },
      "source": [
        "# Get the predictions for the test data\n",
        "predicted_classes = model_cnn.predict_classes(X_test_cnn)\n",
        "\n",
        "# Get the indices to be plotted\n",
        "Y_true_cnn = Y_test\n",
        "correct = np.nonzero(predicted_classes == Y_true_cnn)\n",
        "incorrect = np.nonzero(predicted_classes != Y_true_cnn)\n",
        "\n",
        "from sklearn.metrics import classification_report\n",
        "\n",
        "target_names = [\"Class {}\".format(i) for i in range(num_classes)]\n",
        "\n",
        "print(classification_report(Y_true_cnn, predicted_classes, target_names = target_names))"
      ],
      "execution_count": 0,
      "outputs": [
        {
          "output_type": "stream",
          "text": [
            "              precision    recall  f1-score   support\n",
            "\n",
            "     Class 0       0.89      0.87      0.88      1000\n",
            "     Class 1       0.99      0.98      0.98      1000\n",
            "     Class 2       0.90      0.87      0.88      1000\n",
            "     Class 3       0.92      0.93      0.92      1000\n",
            "     Class 4       0.87      0.89      0.88      1000\n",
            "     Class 5       0.99      0.97      0.98      1000\n",
            "     Class 6       0.78      0.79      0.78      1000\n",
            "     Class 7       0.96      0.98      0.97      1000\n",
            "     Class 8       0.98      0.99      0.98      1000\n",
            "     Class 9       0.97      0.97      0.97      1000\n",
            "\n",
            "   micro avg       0.92      0.92      0.92     10000\n",
            "   macro avg       0.92      0.92      0.92     10000\n",
            "weighted avg       0.92      0.92      0.92     10000\n",
            "\n"
          ],
          "name": "stdout"
        }
      ]
    },
    {
      "cell_type": "markdown",
      "metadata": {
        "id": "-ovoF52qJLsQ",
        "colab_type": "text"
      },
      "source": [
        "**Subset of correctly predicted classes:**"
      ]
    },
    {
      "cell_type": "code",
      "metadata": {
        "id": "ZqVLcIO9JNvT",
        "colab_type": "code",
        "outputId": "08a34e57-76f4-4691-a434-1bcbaea4448e",
        "colab": {
          "base_uri": "https://localhost:8080/",
          "height": 362
        }
      },
      "source": [
        "i=1\n",
        "for j in range(9):\n",
        "    plt.subplot(3,3,i)\n",
        "    plt.imshow(X_test_cnn[correct[0][j]].reshape(28,28), cmap='gray', interpolation='none')\n",
        "    plt.title(\"Predicted {}, Class {}\".format(predicted_classes[correct[0][j]], Y_true_cnn[correct[0][j]]))\n",
        "    i+=1"
      ],
      "execution_count": 0,
      "outputs": [
        {
          "output_type": "display_data",
          "data": {
            "image/png": "[encoded data removed]",
            "text/plain": [
              "<Figure size 576x396 with 9 Axes>"
            ]
          },
          "metadata": {
            "tags": []
          }
        }
      ]
    },
    {
      "cell_type": "markdown",
      "metadata": {
        "id": "b9gg3bwFJSfQ",
        "colab_type": "text"
      },
      "source": [
        "**Subset of incorrectly predicted classes:**"
      ]
    },
    {
      "cell_type": "code",
      "metadata": {
        "id": "ZdDyY4BdJVx9",
        "colab_type": "code",
        "outputId": "04a3f4cc-7188-432a-e8be-62940c216878",
        "colab": {
          "base_uri": "https://localhost:8080/",
          "height": 362
        }
      },
      "source": [
        "i=1\n",
        "for j in range(9):\n",
        "    plt.subplot(3,3,i)\n",
        "    plt.imshow(X_test_cnn[incorrect[0][j]].reshape(28,28), cmap='gray', interpolation='none')\n",
        "    plt.title(\"Predicted {}, Class {}\".format(predicted_classes[incorrect[0][j]], Y_true_cnn[incorrect[0][j]]))\n",
        "    i+=1"
      ],
      "execution_count": 0,
      "outputs": [
        {
          "output_type": "display_data",
          "data": {
            "image/png": "[encoded data removed]",
            "text/plain": [
              "<Figure size 576x396 with 9 Axes>"
            ]
          },
          "metadata": {
            "tags": []
          }
        }
      ]
    },
    {
      "cell_type": "code",
      "metadata": {
        "id": "AWQ1ySp1JeSc",
        "colab_type": "code",
        "colab": {}
      },
      "source": [
        "# Confusion Matrix \n",
        "from sklearn.metrics import confusion_matrix\n",
        "import itertools\n",
        "\n",
        "def plot_confusion_matrix(cm, classes,\n",
        "                          normalize=False,\n",
        "                          title='Confusion matrix',\n",
        "                          cmap=plt.cm.Blues):\n",
        "    \"\"\"\n",
        "    This function prints and plots the confusion matrix.\n",
        "    Normalization can be applied by setting `normalize=True`.\n",
        "    \"\"\"\n",
        "    plt.imshow(cm, interpolation='nearest', cmap=cmap)\n",
        "    plt.title(title)\n",
        "    plt.colorbar()\n",
        "    tick_marks = np.arange(len(classes))\n",
        "    plt.xticks(tick_marks, classes, rotation=45)\n",
        "    plt.yticks(tick_marks, classes)\n",
        "\n",
        "    if normalize:\n",
        "        cm = cm.astype('float') / cm.sum(axis=1)[:, np.newaxis]\n",
        "\n",
        "    thresh = cm.max() / 2.\n",
        "    for i, j in itertools.product(range(cm.shape[0]), range(cm.shape[1])):\n",
        "        plt.text(j, i, cm[i, j],\n",
        "                 horizontalalignment=\"center\",\n",
        "                 color=\"white\" if cm[i, j] > thresh else \"black\")\n",
        "\n",
        "    plt.tight_layout()\n",
        "    plt.ylabel('True label')\n",
        "    plt.xlabel('Predicted label')"
      ],
      "execution_count": 0,
      "outputs": []
    },
    {
      "cell_type": "code",
      "metadata": {
        "id": "o48LIRf-JhSq",
        "colab_type": "code",
        "outputId": "75dde2cd-fd2b-49ef-cd95-fc3b05a0c78d",
        "colab": {
          "base_uri": "https://localhost:8080/",
          "height": 415
        }
      },
      "source": [
        "# Predict the values from the validation dataset\n",
        "Y_pred = model_cnn.predict(X_test_cnn)\n",
        "\n",
        "# Convert predictions classes to one hot vectors \n",
        "Y_pred_classes = np.argmax(Y_pred,axis = 1) \n",
        "\n",
        "# Convert validation observations to one hot vectors\n",
        "Y_true = np.argmax(Y_test_cnn,axis = 1) \n",
        "\n",
        "# compute the confusion matrix\n",
        "confusion_mtx = confusion_matrix(Y_true,Y_pred_classes)\n",
        "\n",
        "# plot the confusion matrix\n",
        "plot_confusion_matrix(confusion_mtx, classes = range(10)) \n"
      ],
      "execution_count": 0,
      "outputs": [
        {
          "output_type": "display_data",
          "data": {
            "image/png": "[encoded data removed]",
            "text/plain": [
              "<Figure size 576x396 with 2 Axes>"
            ]
          },
          "metadata": {
            "tags": []
          }
        }
      ]
    }
  ]
}